{
 "metadata": {
  "name": "",
  "signature": "sha256:04c9185e8007d1eb37e16066f444feac4c811b5a3d2ad9e7da244b8be1f3c2e4"
 },
 "nbformat": 3,
 "nbformat_minor": 0,
 "worksheets": [
  {
   "cells": [
    {
     "cell_type": "code",
     "collapsed": false,
     "input": [
      "%load_ext watermark"
     ],
     "language": "python",
     "metadata": {},
     "outputs": [],
     "prompt_number": 1
    },
    {
     "cell_type": "code",
     "collapsed": false,
     "input": [
      "%watermark -a Schmelling,Nicolas -u -d -v -p matplotlib,numpy,pandas,scipy,biopython"
     ],
     "language": "python",
     "metadata": {},
     "outputs": [
      {
       "output_type": "stream",
       "stream": "stdout",
       "text": [
        "Schmelling,Nicolas \n",
        "Last updated: 04/04/2015 \n",
        "\n",
        "CPython 2.7.8\n",
        "IPython 2.2.0\n",
        "\n",
        "matplotlib 1.4.0\n",
        "numpy 1.9.0\n",
        "pandas 0.14.1\n",
        "scipy 0.14.0\n",
        "biopython 1.65\n"
       ]
      }
     ],
     "prompt_number": 2
    },
    {
     "cell_type": "markdown",
     "metadata": {},
     "source": [
      "---\n",
      "Any comments and suggestions or questions?     \n",
      "Please feel free to contact me via [twitter](https://twitter.com/bio_mediocre) or [email](mailto:schmelli@msu.edu).\n",
      "\n",
      "---"
     ]
    },
    {
     "cell_type": "markdown",
     "metadata": {},
     "source": [
      "#Content#\n",
      "---\n",
      "\n",
      "+ [Biopython BLAST](#BLAST)\n",
      "\n",
      "+ [Extracting sequences from XML files](#fasta)\n",
      "\n",
      "+ [Command line BLAST](#BLAST back)\n",
      "\n",
      "+ [Filtering hits by GI's](#filter)\n",
      "\n",
      "+ [Writing CSV files from BLAST results](#CSV)\n",
      "\n",
      "---"
     ]
    },
    {
     "cell_type": "markdown",
     "metadata": {},
     "source": [
      "#Comparative analysis of the circadian clock genes\n",
      "----\n",
      "\n",
      "This project aims to investigate the distribution of circadian clock proteins of _Synechococcus elongatus PCC 7942_ and _Synechocystis PCC 6803_. This comparative analysis is used to understand more about core genes of circadian clock proteins in cyanobacteria as well as to identify other prokaryotes that could possibly have a clock system.    \n",
      "We first identified a set of 34 (18(+2)+14) proteins of _Synechococcus elongatus PCC 7942_ and their homolog in _Synechocystis PCC 6803_, which are know to be involved in the circadian clock. These proteins were the the starting point for our analysis.    \n",
      "\n",
      "1. We search for homologs of these proteins in the 'nr' (non redundant) database using the local alignment tool __BLAST__.     \n",
      "    Parameter: e-value: e-5, max_hits: 10000, matrix: BLOSUM62, word_size: 3\n",
      "    \n",
      "2. We then aligned the hits we obtained in our first analysis against the corresponding genome, to eliminate incorrect/... matches. Only hits that aligned to the clock protein, which was the basis of the first analysis, were consider a true hit.     \n",
      "    Parameter: e-value: 10, max_hits: 1, matrix: BLOSUM62, word_size: 3     \n",
      "    \n",
      "    e.g.: If you first blasted kaiA _(Synpcc_7942_1218)_ against the 'nr' database. You would blast every hit you got in this analysis back against the _Synechococcus elongatus PCC 7942_ genome. Now you get for every hit, just one hit in the genome. Next you would filter only these hits that match with kaiA.\n",
      "    \n",
      "3. Further we grouped the 'true' hits by organism name and kept only these organisms that had a homolog to one of the kaiC proteins. \n",
      "\n",
      "4. Next we performed right-sided Fisher's exact tests for every protein pair, to check for possible correlations. All of the calculated p-values were corrected by Benjamini-Hochberg, to exclude false discoveries caused by multiple testing. Corrected p-values < 0.01 were considered significant."
     ]
    },
    {
     "cell_type": "code",
     "collapsed": false,
     "input": [
      "from Bio.Blast import NCBIWWW\n",
      "from Bio.Blast import NCBIXML\n",
      "from Bio import SeqIO\n",
      "from Bio import Phylo\n",
      "from Bio import AlignIO\n",
      "import matplotlib.pyplot as plt\n",
      "from matplotlib import ticker\n",
      "import glob\n",
      "import time\n",
      "import csv\n",
      "import pandas as pd\n",
      "import numpy as np\n",
      "import scipy.stats as s\n",
      "%pylab inline"
     ],
     "language": "python",
     "metadata": {},
     "outputs": []
    },
    {
     "cell_type": "markdown",
     "metadata": {},
     "source": [
      "###BLAST###\n",
      "<a id='BLAST'></a>\n",
      "-----\n",
      "---\n",
      "\n",
      "Before we get started with our BLAST run, we need a fasta file with our sequences. So either you copy/paste your sequences of interest in a new fasta file or you download a file that contains all your sequences. In my case I needed to get all sequences and create a new fasta file.      \n",
      "\n",
      "Your fasta file should look something like this:          \n",
      "\n",
      "`> fasta sequence header`     \n",
      "`sequence e.g. MASJINDHASDINEIHGNISD`      \n",
      "`> next sequence header`      \n",
      "`next sequence e.g. MINASIDJGHIENGISJDA`     "
     ]
    },
    {
     "cell_type": "code",
     "collapsed": false,
     "input": [
      "# I used the Biopython package for all BLAST related analysis and coding. For more information check www.biopython.org.\n",
      "# First we read our fasta file sequence by sequence. The SeqIO.parse function needs only a file name, but to make sure it reads\n",
      "# the file correct, we specify the file format.\n",
      "for seq_record in SeqIO.parse('MS', format='fasta'):\n",
      "    \n",
      "    # Next we send our sequence to NCBI server and use the BLAST online version. \n",
      "    # NCBIWWW takes a program argument: In our case blastp, b/c we blast protein against protein. \n",
      "    # a database argument: In our case nr, b/c we want to blast against almost all protein sequences.\n",
      "    # a format argument: Just to make sure BLAST reads our sequences correctly.\n",
      "    # and various additional arguments (optinal): expect = e-value (cut off value, for less similarity), \n",
      "                                                # hitlist_size = no. of maximum hits\n",
      "                                                # matrix_name and word_size are the default values.\n",
      "    result_handle = NCBIWWW.qblast('blastp', 'nr', seq_record.format('fasta'), expect=0.00001,\n",
      "                                   hitlist_size=10000, matrix_name='BLOSUM62', word_size=3)\n",
      "    \n",
      "    # We save the BLAST result for every sequence in a new XML file, for later parsing.\n",
      "    # First we need to open a new file with a descriptive name (sequence name seems like a good idea)\n",
      "    # Then we write the results in the file and don't forget to close it afterwards.\n",
      "    # In the end we also close the BLAST result file, before we go on to the next sequence\n",
      "    save_file = open(seq_record.id + '_BLAST.xml', 'w')\n",
      "    save_file.write(result_handle.read())\n",
      "    save_file.close()\n",
      "    result_handle.close()   \n",
      "# This script can run a while, depending on the no. of sequences in your file and your hitlist_size value."
     ],
     "language": "python",
     "metadata": {},
     "outputs": []
    },
    {
     "cell_type": "code",
     "collapsed": false,
     "input": [],
     "language": "python",
     "metadata": {},
     "outputs": []
    }
   ],
   "metadata": {}
  }
 ]
}