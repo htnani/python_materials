{
 "metadata": {
  "name": "",
  "signature": "sha256:efc659060278030538cea06ed4034c4b280ca54a803189e5855148f39bd08803"
 },
 "nbformat": 3,
 "nbformat_minor": 0,
 "worksheets": [
  {
   "cells": [
    {
     "cell_type": "code",
     "collapsed": false,
     "input": [
      "%load_ext watermark"
     ],
     "language": "python",
     "metadata": {},
     "outputs": [],
     "prompt_number": 1
    },
    {
     "cell_type": "code",
     "collapsed": false,
     "input": [
      "%watermark -a Schmelling,Nicolas -u -d -v -p biopython"
     ],
     "language": "python",
     "metadata": {},
     "outputs": [
      {
       "output_type": "stream",
       "stream": "stdout",
       "text": [
        "Schmelling,Nicolas \n",
        "Last updated: 05/04/2015 \n",
        "\n",
        "CPython 2.7.8\n",
        "IPython 2.2.0\n",
        "\n",
        "biopython 1.65\n"
       ]
      }
     ],
     "prompt_number": 2
    },
    {
     "cell_type": "markdown",
     "metadata": {},
     "source": [
      "---\n",
      "Any comments and suggestions or questions?     \n",
      "Please feel free to contact me via [twitter](https://twitter.com/bio_mediocre) or [email](mailto:schmelli@msu.edu).\n",
      "\n",
      "---"
     ]
    },
    {
     "cell_type": "markdown",
     "metadata": {},
     "source": [
      "#Working with BLAST in the Biopython package#\n",
      "----\n",
      "\n",
      "Within this IPython notebook I'll try to show you some basic tools of the [Biopython package](http://biopython.org/wiki/Main_Page). In the end you should be able to take a set of sequences and [BLAST](http://blast.ncbi.nlm.nih.gov/Blast.cgi) them against a database. Further you learn to parse the results and convert important information into a CSV file.\n",
      "\n",
      "This notebook is the first one of a series of tutorials to show you various aspects of the Biopython package.\n",
      "\n",
      "---"
     ]
    },
    {
     "cell_type": "markdown",
     "metadata": {},
     "source": [
      "#Content#\n",
      "---\n",
      "\n",
      "| [BLAST](#BLAST) | [Extracting sequences from XML files](#fasta) | [Command line BLAST](#BLAST back) | [Writing CSV files from BLAST results](#CSV)\n",
      "\n",
      "---"
     ]
    },
    {
     "cell_type": "code",
     "collapsed": false,
     "input": [
      "from Bio import SeqIO\n",
      "from Bio.Blast import NCBIWWW\n",
      "from Bio.Blast import NCBIXML\n",
      "from Bio import Entrez\n",
      "from urllib2 import HTTPError\n",
      "import time"
     ],
     "language": "python",
     "metadata": {},
     "outputs": [],
     "prompt_number": 3
    },
    {
     "cell_type": "markdown",
     "metadata": {},
     "source": [
      "<a id='BLAST'></a>\n",
      "-----"
     ]
    },
    {
     "cell_type": "markdown",
     "metadata": {},
     "source": [
      "###BLAST###\n",
      "---\n",
      "\n",
      "Before we get started with our BLAST run, we need a fasta file with our sequences. So either you copy/paste your sequences of interest in a new fasta file or you download a file that contains all your sequences.\n",
      "\n",
      "Your fasta file should look something like this:          \n",
      "\n",
      "`>fasta sequence header`     \n",
      "`sequence e.g. MASJINDHASDINEIHGNISD`      \n",
      "`>next sequence header`      \n",
      "`next sequence e.g. MINASIDJGHIENGISJDA`    \n",
      "\n",
      "---"
     ]
    },
    {
     "cell_type": "code",
     "collapsed": false,
     "input": [
      "# First we read our fasta file sequence by sequence. The SeqIO.parse function needs only a file name, but to make sure it reads\n",
      "# the file correct, we specify the file format.\n",
      "for seq_record in SeqIO.parse('D1_WP_010874309.faa', format='fasta'):\n",
      "    \n",
      "    # Next we send our sequence to the NCBI server and use the BLAST online version. \n",
      "    # NCBIWWW takes a program argument: In our case blastp, b/c we blast protein against protein. \n",
      "    # A database argument: In our case nr (non redundant), b/c we want to blast against almost all protein sequences.\n",
      "    # A format argument: Just to make sure BLAST reads our sequences correctly.\n",
      "    # And various additional arguments (optinal): expect = e-value (cut off value, for less similarity), \n",
      "                                                # hitlist_size = no. of maximum hits\n",
      "                                                # matrix_name and word_size are the default values.\n",
      "    result_handle = NCBIWWW.qblast('blastp', 'nr', seq_record.format('fasta'), expect=0.00001,\n",
      "                                   hitlist_size=100, matrix_name='BLOSUM62', word_size=3)\n",
      "    \n",
      "    # We save the BLAST result in a new XML file, for later parsing.\n",
      "    # First we need to open a new file with a descriptive name (sequence name seems like a good idea).\n",
      "    # Then we write the results in the file and don't forget to close it afterwards.\n",
      "    # In the end we also close the BLAST result file, before we go on to the next sequence\n",
      "    save_file = open('D1_BLAST.xml', 'w')\n",
      "    save_file.write(result_handle.read())\n",
      "    save_file.close()\n",
      "    result_handle.close()   \n",
      "# This script can run a while, depending on the no. of sequences in your file and your hitlist_size value."
     ],
     "language": "python",
     "metadata": {},
     "outputs": [],
     "prompt_number": 4
    },
    {
     "cell_type": "markdown",
     "metadata": {},
     "source": [
      "<a id='fasta'></a>\n",
      "-----"
     ]
    },
    {
     "cell_type": "markdown",
     "metadata": {},
     "source": [
      "###Write fasta file from XML BLAST results###\n",
      "---\n",
      "\n",
      "Before we can start the next BLAST run, we need to extract the amino acid sequences from the hits, obtained in the first run, and write them into a fasta file.\n",
      "\n",
      "---"
     ]
    },
    {
     "cell_type": "code",
     "collapsed": false,
     "input": [
      "# Always tell NCBI who you are.\n",
      "Entrez.email ='schmelli@msu.edu'\n",
      "\n",
      "# Read the BLAST XML file and load it into the NCBIXML.read.\n",
      "result_handle = open('D1_BLAST.xml')\n",
      "blast_record = NCBIXML.read(result_handle)\n",
      "    \n",
      "# We now want to write a fasta file, b/c we need the sequences for our next BLAST run.\n",
      "# The suffix .faa is just a more precise fasta file (amino acid fasta file).\n",
      "save_file = open('D1_BLAST.faa', 'w')\n",
      "\n",
      "# Now we go through each record in the XML and each alingment of these records. In our case the record is the protein\n",
      "# sequence we used a template for the BLAST analysis. The alingment are each match with the nr database.\n",
      "# We want to write a fasta file, so we need the sequence name as a header. As mentioned above every fasta header starts with\n",
      "# a >.\n",
      "# Next we need to download sequence of each hit from NCBI. Therefore we take the gene index from the alignment title and send\n",
      "# it to Entrez to load the genbank entry. From this entry we download the sequence.\n",
      "for alignment in blast_record.alignments:\n",
      "    save_file.write('>' + alignment.title + '\\n')\n",
      "    line = str(alignment.title.split('|',2)[1])\n",
      "    try:\n",
      "        handle = Entrez.efetch(db='protein', id=line, retmode='xml')\n",
      "    except HTTPError:\n",
      "        time.sleep(20)\n",
      "        handle = Entrez.efetch(db='protein', id=line, retmode='xml')\n",
      "    records = Entrez.read(handle)\n",
      "    save_file.write(records[0]['GBSeq_sequence'].upper() + '\\n')\n",
      "    # To make sure not many requests go per second to NCBI.\n",
      "    time.sleep(1) \n",
      "\n",
      "save_file.close()\n",
      "result_handle.close()"
     ],
     "language": "python",
     "metadata": {},
     "outputs": [],
     "prompt_number": 5
    },
    {
     "cell_type": "markdown",
     "metadata": {},
     "source": [
      "<a id='BLAST back'></a>\n",
      "-----"
     ]
    },
    {
     "cell_type": "markdown",
     "metadata": {},
     "source": [
      "###Blast hits back against the genomes###\n",
      "---\n",
      "\n",
      "Next we will blast all the sequences from our first BLAST run back against the _Synechocystis sp. PCC 6803_ genome to validate to correctness of our first run. Only hits that align to the original protein are considered as a 'real' hit (reciprocal best hit).\n",
      "\n",
      "I ran this analysis using the standalone local BLAST from the command line, b/c I had problems with the NCBI server. Installation information for BLAST can be found [here](http://blast.ncbi.nlm.nih.gov/Blast.cgi?PAGE_TYPE=BlastDocs&DOC_TYPE=Download). Below is the command line script you need to run for reproduction of my results.\n",
      "\n",
      "---"
     ]
    },
    {
     "cell_type": "raw",
     "metadata": {},
     "source": [
      "# Command line code for standalone local BLAST run\n",
      "\n",
      "# For more information about the blastp options\n",
      "blastp -help\n",
      "\n",
      "# Build your own BLAST database from the genome file\n",
      "# -in: Input fasta file\n",
      "# -dbtype: Database type, either nucleotide or protein\n",
      "# -out: Database name\n",
      "makeblastdb -in Synechocystis_chr_prot.faa -dbtype 'prot' -out Synechocystis_chr_prot\n",
      "\n",
      "# Run BLAST for a set of input files\n",
      "# -query: Input file\n",
      "# -db: Database of your BLAST run\n",
      "# -out: Output file name\n",
      "# -evalue: Expectation value (E) threshold for saving hits. Default = 10\n",
      "# -word_size: Word size for wordfinder algorithm\n",
      "# -outfmt: alignment view options:\n",
      "     0 = pairwise,\n",
      "     1 = query-anchored showing identities,\n",
      "     2 = query-anchored no identities,\n",
      "     3 = flat query-anchored, show identities,\n",
      "     4 = flat query-anchored, no identities,\n",
      "     5 = XML Blast output,\n",
      "     6 = tabular,\n",
      "     7 = tabular with comment lines,\n",
      "     8 = Text ASN.1,\n",
      "     9 = Binary ASN.1,\n",
      "    10 = Comma-separated values,\n",
      "    11 = BLAST archive format (ASN.1) \n",
      "    12 = JSON Seqalign output\n",
      "# -num_alingments: Number of database sequences to show alignments for. Default = 250\n",
      "\n",
      "blastp -query seq/D1_BLAST.faa -db Synechocystis_chr_prot -out D1.xml -evalue 10 -word_size 3 -outfmt 5 -num_alignments 1"
     ]
    },
    {
     "cell_type": "markdown",
     "metadata": {},
     "source": [
      "<a id='CSV'></a>\n",
      "-----"
     ]
    },
    {
     "cell_type": "markdown",
     "metadata": {},
     "source": [
      "###CSV with hits###\n",
      "---\n",
      "\n",
      "For further analysis and visualization we want our data to be in a more general format. I prefer the CSV format, b/c I'm so used to it from working with Excel and it is easy to work with considering the python package __pandas__. \n",
      "For the ones not familiar with the CSV (comma separated values) format. It's a spreadsheet plain text. Each field it separated by a specific delimiter, in most cases it's a comma. For more information check the [wikipedia page](http://en.wikipedia.org/wiki/Comma-separated_values).\n",
      "   \n",
      "__Input:__     \n",
      "gi|499176722|ref|WP_010874309.1| Photosystem II protein D1 1 [Synechocystis sp. PCC 6803]       \n",
      "\n",
      "__Output:__     \n",
      "Synechocystis sp. PCC 6803, Synechocystis, sp. PCC 6803 , Photosystem II protein D1 1 , 499176722 , ...   \n",
      "\n",
      "To achieve this I needed to do a couple of replacing, spliting and joining steps.\n",
      "\n",
      "---"
     ]
    },
    {
     "cell_type": "code",
     "collapsed": false,
     "input": [
      "# Gene Index to filter out the all hits that don't align to the D1 protein.\n",
      "D1_GI = '16332289'\n",
      "\n",
      "# Read the BLAST XML file and load it into the NCBIXML.parser.\n",
      "result_handle = open('D1.xml')\n",
      "blast_records = NCBIXML.parse(result_handle)\n",
      "\n",
      "# Open a CSV file and write the header in the first line.\n",
      "csv = open('D1_hits.csv','w')\n",
      "csv.write('query name,query organism name,query strain name,query gene name,query gi,query gene length,e value,Identity [%],database species name,database gene name,database gi,database gene length \\n')\n",
      "\n",
      "# Loop over every record in your XML and count them.\n",
      "for blast_record in blast_records:\n",
      "    \n",
      "    # Check the GI of the alignment. If the hit matches your protein of interest write an entry in the CSV file.\n",
      "    for alignment in blast_record.alignments:\n",
      "        if D1_GI in alignment.title.lower():\n",
      "            \n",
      "            # Some hits contain 'MULTISPECIES' entries. Loop over each organism in the query title.\n",
      "            for i in blast_record.query.split(' >', blast_record.query.count('>')):\n",
      "                # Organisms names are enclosed by square bracktes and we only want to keep these hits.\n",
      "                if '[' in i:\n",
      "\n",
      "                    # Extract name\n",
      "                    csv.write(i.split('[',1)[1][0:-1].replace(',',' ').replace(\"'\",'').replace('[','').replace(']','').lstrip())\n",
      "                    csv.write(',')\n",
      "\n",
      "                    # Extract species name\n",
      "                    csv.write(i.split('[',1)[1][0:-1].replace(',',' ').replace(\"'\",'').replace('[','').replace(']','').lstrip().split(' ',i.split('[',1)[1][0:-1].count(' '))[0])\n",
      "                    csv.write(',')\n",
      "\n",
      "                    # Extract strain name\n",
      "                    csv.write(' '.join(i.split('[',1)[1][0:-1].replace(',',' ').replace('[','').replace(']','').lstrip().split(' ',i.split('[',1)[1][0:-1].count(' '))[1:]))\n",
      "                    csv.write(',')\n",
      "\n",
      "                    # Extract gene name\n",
      "                    csv.write(str(i.split('|',5)[4].split('[',1)[0].replace(',',' ')[1:]))\n",
      "                    csv.write(',')\n",
      "\n",
      "                    # Extract GI of that gene\n",
      "                    csv.write(str(i.split('|',2)[1]))\n",
      "                    csv.write(',')\n",
      "                    for hsp in alignment.hsps:\n",
      "\n",
      "                        # Extract gene length\n",
      "                        csv.write(str(blast_record.query_length))\n",
      "                        csv.write(',')\n",
      "\n",
      "                        # Extract e-value of that hit\n",
      "                        csv.write(str(hsp.expect))\n",
      "                        csv.write(',')\n",
      "\n",
      "                        # Calculate identity [%] for that hit\n",
      "                        csv.write(str(((hsp.identities/float(len(hsp.match)))*100)))\n",
      "                        csv.write(',')\n",
      "\n",
      "                        # Extract SyPCC6803 organims name\n",
      "                        csv.write(alignment.title.split('[',1)[1][0:-1])\n",
      "                        csv.write(',')\n",
      "\n",
      "                        # Extract SyPCC6803 gene name\n",
      "                        csv.write(alignment.title.split('|',7)[6].split('[',1)[0])\n",
      "                        csv.write(',')\n",
      "\n",
      "                        # Extract SyPCC6803 GI for that gene\n",
      "                        csv.write(alignment.title.split('|',4)[3])\n",
      "                        csv.write(',')\n",
      "\n",
      "                        # Extract SyPCC6803 gene length\n",
      "                        csv.write(str(alignment.length))\n",
      "                        csv.write('\\n')\n",
      "\n",
      "                        break\n",
      "                else:\n",
      "                    continue\n",
      "\n",
      "csv.close()"
     ],
     "language": "python",
     "metadata": {},
     "outputs": [],
     "prompt_number": 6
    }
   ],
   "metadata": {}
  }
 ]
}