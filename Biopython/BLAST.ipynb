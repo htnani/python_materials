{
 "metadata": {
  "name": "",
  "signature": "sha256:08ad48a92ac0f9933b527591a094a18e0f5772cb781d52cf93d85115dcd349cd"
 },
 "nbformat": 3,
 "nbformat_minor": 0,
 "worksheets": [
  {
   "cells": [
    {
     "cell_type": "code",
     "collapsed": false,
     "input": [
      "%load_ext watermark"
     ],
     "language": "python",
     "metadata": {},
     "outputs": [],
     "prompt_number": 1
    },
    {
     "cell_type": "code",
     "collapsed": false,
     "input": [
      "%watermark -a Schmelling,Nicolas -u -d -v -p matplotlib,numpy,pandas,scipy,biopython"
     ],
     "language": "python",
     "metadata": {},
     "outputs": [
      {
       "output_type": "stream",
       "stream": "stdout",
       "text": [
        "Schmelling,Nicolas \n",
        "Last updated: 04/04/2015 \n",
        "\n",
        "CPython 2.7.8\n",
        "IPython 2.2.0\n",
        "\n",
        "matplotlib 1.4.0\n",
        "numpy 1.9.0\n",
        "pandas 0.14.1\n",
        "scipy 0.14.0\n",
        "biopython 1.65\n"
       ]
      }
     ],
     "prompt_number": 2
    },
    {
     "cell_type": "markdown",
     "metadata": {},
     "source": [
      "---\n",
      "Any comments and suggestions or questions?     \n",
      "Please feel free to contact me via [twitter](https://twitter.com/bio_mediocre) or [email](mailto:schmelli@msu.edu).\n",
      "\n",
      "---"
     ]
    },
    {
     "cell_type": "markdown",
     "metadata": {},
     "source": [
      "#Content#\n",
      "---\n",
      "\n",
      "| [DNA to Protein](#DNAtoProt) | [BLAST](#BLAST) | [Extracting sequences from XML files](#fasta) | [Command line BLAST](#BLAST back)\n",
      "\n",
      "+ [Filtering hits by GI's](#filter)\n",
      "\n",
      "+ [Writing CSV files from BLAST results](#CSV)\n",
      "\n",
      "---"
     ]
    },
    {
     "cell_type": "markdown",
     "metadata": {},
     "source": [
      "#Identify new plant-microbe genes\n",
      "----\n",
      "\n",
      "This project aims to investigate the "
     ]
    },
    {
     "cell_type": "code",
     "collapsed": false,
     "input": [
      "from Bio.Blast import NCBIWWW\n",
      "from Bio.Blast import NCBIXML\n",
      "from Bio import SeqIO\n",
      "from Bio import Phylo\n",
      "from Bio import AlignIO\n",
      "import matplotlib.pyplot as plt\n",
      "from matplotlib import ticker\n",
      "import glob\n",
      "import time\n",
      "import csv\n",
      "import pandas as pd\n",
      "import numpy as np\n",
      "import scipy.stats as s\n",
      "%pylab inline"
     ],
     "language": "python",
     "metadata": {},
     "outputs": []
    },
    {
     "cell_type": "markdown",
     "metadata": {},
     "source": [
      "<a id='DNAtoProt'></a>\n",
      "-----"
     ]
    },
    {
     "cell_type": "markdown",
     "metadata": {},
     "source": [
      "###DNA seq to protein###\n",
      "---"
     ]
    },
    {
     "cell_type": "code",
     "collapsed": false,
     "input": [],
     "language": "python",
     "metadata": {},
     "outputs": []
    },
    {
     "cell_type": "markdown",
     "metadata": {},
     "source": [
      "<a id='BLAST'></a>\n",
      "-----"
     ]
    },
    {
     "cell_type": "markdown",
     "metadata": {},
     "source": [
      "###BLAST###\n",
      "---\n",
      "\n",
      "Before we get started with our BLAST run, we need a fasta file with our sequences. So either you copy/paste your sequences of interest in a new fasta file or you download a file that contains all your sequences. In my case I needed to get all sequences and create a new fasta file.      \n",
      "\n",
      "Your fasta file should look something like this:          \n",
      "\n",
      "`>fasta sequence header`     \n",
      "`sequence e.g. MASJINDHASDINEIHGNISD`      \n",
      "`>next sequence header`      \n",
      "`next sequence e.g. MINASIDJGHIENGISJDA`     "
     ]
    },
    {
     "cell_type": "code",
     "collapsed": false,
     "input": [
      "# I used the Biopython package for all BLAST related analysis and coding. For more information check www.biopython.org.\n",
      "# First we read our fasta file sequence by sequence. The SeqIO.parse function needs only a file name, but to make sure it reads\n",
      "# the file correct, we specify the file format.\n",
      "for seq_record in SeqIO.parse('MSTN_HQ413097.fasta', format='fasta'):\n",
      "    \n",
      "    # Next we send our sequence to NCBI server and use the BLAST online version. \n",
      "    # NCBIWWW takes a program argument: In our case blastp, b/c we blast protein against protein. \n",
      "    # a database argument: In our case nr, b/c we want to blast against almost all protein sequences.\n",
      "    # a format argument: Just to make sure BLAST reads our sequences correctly.\n",
      "    # and various additional arguments (optinal): expect = e-value (cut off value, for less similarity), \n",
      "                                                # hitlist_size = no. of maximum hits\n",
      "                                                # matrix_name and word_size are the default values.\n",
      "    result_handle = NCBIWWW.qblast('blastp', 'nr', seq_record.format('fasta'), expect=0.00001,\n",
      "                                   hitlist_size=10, matrix_name='BLOSUM62', word_size=3)\n",
      "    \n",
      "    # We save the BLAST result for every sequence in a new XML file, for later parsing.\n",
      "    # First we need to open a new file with a descriptive name (sequence name seems like a good idea)\n",
      "    # Then we write the results in the file and don't forget to close it afterwards.\n",
      "    # In the end we also close the BLAST result file, before we go on to the next sequence\n",
      "    save_file = open(seq_record.id + '_BLAST.xml', 'w')\n",
      "    save_file.write(result_handle.read())\n",
      "    save_file.close()\n",
      "    result_handle.close()   \n",
      "# This script can run a while, depending on the no. of sequences in your file and your hitlist_size value."
     ],
     "language": "python",
     "metadata": {},
     "outputs": []
    },
    {
     "cell_type": "code",
     "collapsed": false,
     "input": [],
     "language": "python",
     "metadata": {},
     "outputs": []
    }
   ],
   "metadata": {}
  }
 ]
}