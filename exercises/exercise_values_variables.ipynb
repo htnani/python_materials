{
 "cells": [
  {
   "cell_type": "code",
   "execution_count": 1,
   "metadata": {
    "collapsed": true
   },
   "outputs": [],
   "source": [
    "%load_ext watermark"
   ]
  },
  {
   "cell_type": "code",
   "execution_count": 2,
   "metadata": {
    "collapsed": false
   },
   "outputs": [
    {
     "name": "stdout",
     "output_type": "stream",
     "text": [
      "Schmelling,Nicolas \n",
      "Last updated: 01/08/2016 \n",
      "\n",
      "CPython 3.5.2\n",
      "IPython 4.1.1\n"
     ]
    }
   ],
   "source": [
    "%watermark -a Schmelling,Nicolas -u -d -v"
   ]
  },
  {
   "cell_type": "markdown",
   "metadata": {},
   "source": [
    "---\n",
    "Any comments and suggestions or questions?     \n",
    "Please feel free to contact me via [twitter](https://twitter.com/derschmelling) or [email](mailto:nicolasschmelling@gmail.com).\n",
    "\n",
    "---"
   ]
  },
  {
   "cell_type": "markdown",
   "metadata": {},
   "source": [
    "# Exercises - Values and Variables\n",
    "---"
   ]
  },
  {
   "cell_type": "markdown",
   "metadata": {},
   "source": [
    "### A little exercise to get you started\n",
    "\n",
    "Write some code to convert a given temperatur in Celsius to a temperatur in Fahrenheit.\n",
    "Print out the results in a sentence.\n",
    "\n",
    "Here is the conversion formula you might need.\n",
    "\n",
    "$°F = \\frac{°C \\, \\cdot \\, 9}{5} + 32$"
   ]
  },
  {
   "cell_type": "code",
   "execution_count": 3,
   "metadata": {
    "collapsed": true
   },
   "outputs": [],
   "source": [
    "C = 42\n",
    "F = C * 9 / 5 + 32"
   ]
  },
  {
   "cell_type": "code",
   "execution_count": 4,
   "metadata": {
    "collapsed": false
   },
   "outputs": [
    {
     "name": "stdout",
     "output_type": "stream",
     "text": [
      "42 107.6\n"
     ]
    }
   ],
   "source": [
    "print(C,F)"
   ]
  },
  {
   "cell_type": "markdown",
   "metadata": {},
   "source": [
    "### Exercise Strings & Variables\n",
    "\n",
    "1. Find out if the sequence is all alphabetic and upper case.   \n",
    "2. Count all DNA nucleotides of a given sequence.     \n",
    "3. Find out if the sequence contains a start codon and find the first position. \n",
    "4. Calculate the GC content and print the results. \n",
    "  \n",
    "   \n",
    "1. Transcribe the DNA sequence into an RNA sequence.\n",
    "    ATG -> AUG\n",
    "2. Create the complementary strain of the DNA sequence.\n",
    "    ATG -> CAT"
   ]
  },
  {
   "cell_type": "markdown",
   "metadata": {},
   "source": [
    "3' ATG 5'\n",
    "\n",
    "5' TAC 3'\n",
    "\n",
    "3' CAT 5'"
   ]
  },
  {
   "cell_type": "code",
   "execution_count": 5,
   "metadata": {
    "collapsed": true
   },
   "outputs": [],
   "source": [
    "seq = 'ATGACTtagctgatcgtgatgctgGACGTATCGTAGCTAGATCGTACGTAGCTACGATCG'\\\n",
    "      'TAGCTAGCTAGCTAGCATGCTACGTACGATCGGTGCTCGCTCTCTCGCGATACGACTGCT'\\\n",
    "      'ACTGACTTAGCTGATCGTAGCTGAGCTAGCTGATCGTACGTGACAG'"
   ]
  },
  {
   "cell_type": "code",
   "execution_count": 6,
   "metadata": {
    "collapsed": false
   },
   "outputs": [
    {
     "name": "stdout",
     "output_type": "stream",
     "text": [
      "True\n",
      "False\n"
     ]
    }
   ],
   "source": [
    "print(seq.isalpha())\n",
    "print(seq.isupper())"
   ]
  },
  {
   "cell_type": "code",
   "execution_count": 7,
   "metadata": {
    "collapsed": true
   },
   "outputs": [],
   "source": [
    "seq = seq.upper()"
   ]
  },
  {
   "cell_type": "code",
   "execution_count": 8,
   "metadata": {
    "collapsed": false
   },
   "outputs": [
    {
     "name": "stdout",
     "output_type": "stream",
     "text": [
      "A: 36 T: 45 C: 40 G: 45\n"
     ]
    }
   ],
   "source": [
    "print('A:', seq.count('A'), 'T:', seq.count('T'), \n",
    "      'C:', seq.count('C'), 'G:', seq.count('G'))"
   ]
  },
  {
   "cell_type": "code",
   "execution_count": 9,
   "metadata": {
    "collapsed": false
   },
   "outputs": [
    {
     "name": "stdout",
     "output_type": "stream",
     "text": [
      "3\n",
      "0\n"
     ]
    }
   ],
   "source": [
    "print(seq.count('ATG'))\n",
    "print(seq.find('ATG'))"
   ]
  },
  {
   "cell_type": "code",
   "execution_count": 10,
   "metadata": {
    "collapsed": false
   },
   "outputs": [
    {
     "name": "stdout",
     "output_type": "stream",
     "text": [
      "3\n",
      "0\n",
      "18\n",
      "76\n"
     ]
    }
   ],
   "source": [
    "motif = 'ATG'\n",
    "\n",
    "print(seq.count(motif))\n",
    "\n",
    "for i in range(len(seq)):\n",
    "    if seq[i:].startswith(motif):\n",
    "        print(i)"
   ]
  },
  {
   "cell_type": "code",
   "execution_count": 11,
   "metadata": {
    "collapsed": true
   },
   "outputs": [],
   "source": [
    "GC = (seq.count('C') + seq.count('G')) / float(len(seq)) * 100"
   ]
  },
  {
   "cell_type": "code",
   "execution_count": 12,
   "metadata": {
    "collapsed": false
   },
   "outputs": [
    {
     "name": "stdout",
     "output_type": "stream",
     "text": [
      "51.205\n",
      "51.20\n"
     ]
    }
   ],
   "source": [
    "print(round(GC,3))\n",
    "print('%.2f' % GC)"
   ]
  },
  {
   "cell_type": "code",
   "execution_count": 13,
   "metadata": {
    "collapsed": false
   },
   "outputs": [
    {
     "name": "stdout",
     "output_type": "stream",
     "text": [
      "AUGACUUAGCUGAUCGUGAUGCUGGACGUAUCGUAGCUAGAUCGUACGUAGCUACGAUCGUAGCUAGCUAGCUAGCAUGCUACGUACGAUCGGUGCUCGCUCUCUCGCGAUACGACUGCUACUGACUUAGCUGAUCGUAGCUGAGCUAGCUGAUCGUACGUGACAG\n"
     ]
    }
   ],
   "source": [
    "RNA = seq.replace('T','U')\n",
    "print(RNA)"
   ]
  },
  {
   "cell_type": "code",
   "execution_count": 14,
   "metadata": {
    "collapsed": false
   },
   "outputs": [
    {
     "name": "stdout",
     "output_type": "stream",
     "text": [
      "CTGTCACGTACGATCAGCTAGCTCAGCTACGATCAGCTAAGTCAGTAGCAGTCGTATCGCGAGAGAGCGAGCACCGATCGTACGTAGCATGCTAGCTAGCTAGCTACGATCGTAGCTACGTACGATCTAGCTACGATACGTCCAGCATCACGATCAGCTAAGTCAT\n"
     ]
    }
   ],
   "source": [
    "comp_DNA = seq.replace('A', 't').replace('T', 'a').replace('C', 'g').replace('G', 'c').upper()[::-1]\n",
    "print(comp_DNA)"
   ]
  },
  {
   "cell_type": "code",
   "execution_count": 15,
   "metadata": {
    "collapsed": false
   },
   "outputs": [
    {
     "name": "stdout",
     "output_type": "stream",
     "text": [
      "CTGTCACGTACGATCAGCTAGCTCAGCTACGATCAGCTAAGTCAGTAGCAGTCGTATCGCGAGAGAGCGAGCACCGATCGTACGTAGCATGCTAGCTAGCTAGCTACGATCGTAGCTACGTACGATCTAGCTACGATACGTCCAGCATCACGATCAGCTAAGTCAT\n"
     ]
    }
   ],
   "source": [
    "print(seq[::-1].translate(str.maketrans('ACGT', 'TGCA')))"
   ]
  }
 ],
 "metadata": {
  "kernelspec": {
   "display_name": "Python 3",
   "language": "python",
   "name": "python3"
  },
  "language_info": {
   "codemirror_mode": {
    "name": "ipython",
    "version": 3
   },
   "file_extension": ".py",
   "mimetype": "text/x-python",
   "name": "python",
   "nbconvert_exporter": "python",
   "pygments_lexer": "ipython3",
   "version": "3.5.2"
  }
 },
 "nbformat": 4,
 "nbformat_minor": 0
}
